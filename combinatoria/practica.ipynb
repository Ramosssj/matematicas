Práctica 1.2
Cuatro amigos:

Antonio (A)
Begoña (B)
Cesar (C)
Diana (D)
constituyen una asociación y tienen que asignar los siguientes cargos:

Presiente (1)
Secretario (3)
Tesorero (4)
Se pide:

1. Escribiendo la solución en una celda de Markdown analice el caso indicando si se trata de variaciones, permutaciones o combinaciones, con o sin repetición o el caso que sea, y el motivo para clasificar el caso de esta forma.
2. Utilizando fórmulas de 
 calcule cuántos casos existen.
1. Cree un programa en Python para calcule cuántos casos existen.
2. Cree un programa en Python para imprimir todas las posibilidades y numérelas.
Solución 1.2


import math
v = math.factorial(4)
print("los casos son:", = v)
print("comprobacion:",1*2*3*4)


lista = ['A', 'B', 'C', 'D']
contador = 1
enumerate(lista)
for i in lista:
    for j in lista:
        for k in lista:
            for l in lista:
                if i != j and i != k and i != l and j != k and j != l and k != l:
                    print(f"{contador:2d} →  {i+j+k+l}")
                    contador += 1





Práctica 1.3
Invente un caso de variaciones sin repetición. Se pide contestar a los mismos puntos que el caso anterior.

Solución 1.3

import itertools
it = itertools.permutations(['1','2','3','4','5'],4)
li = list(it)

print()

for i in range(len(li)):
    print(f"Variación {i+1:2d}: ", *li[i])

¿Cuántos números de cuatro cifras (todas distintas) se pueden formar con los números 1, 2, 3, 4, 5?

Es un caso de variaciones sin repetición ya que:
No intervienen todos los elementos. Solo se usaran cuatro de las cinco números para realizar las combinaciones.
El orden es importante ya que no es lo mismo 1234 que 4321.
Son sin repetición ya que el uso de un numero implica su descarte debido a que todos los numeros deben ser distintos.


Práctica 1.4
Invente un caso de variaciones con repetición. Se pide contestar a los mismos puntos que el caso anterior.

Solución 1.4

import itertools 

def variaciones_con_repeticion(n, seq):
      contador=0
      for p in itertools.product(seq, repeat=n):
            contador+= 1
            print(contador, "".join(p))

secuencia = '123'
m= len(secuencia)
n= 2
variaciones_con_repeticion(n,secuencia)

print(f"El número de variaciones con repetición de {m} elementos tomados de {n} en {n} son {m**n}")

¿Cuántos números de dos cifras se pueden formar con los dígitos: 1, 2, 3?

Es un caso de variaciones con repetición ya que:
No intervienen todos los elementos. Solo se usaran dos o uno de los tres números para realizar las combinaciones.
El orden es importante ya que no es lo mismo 12 que 21.
Son con repetición ya que el mismo numero puede ser empleado varias veces para formar el digito con dos cifras.




Práctica 1.5
Invente un caso de permutaciones sin repetición. Se pide contestar a los mismos puntos que el caso anterior.

Solución 1.5

Tres amigos:

Andres (A)
Barbudo (B)
Carlos (C) Tienen que repartirse en 3 karts para competir ¿Cuáles son las maneras posibles?
Estamos ante un caso de permutaciones sin repetición ya que:

El orden importa ya que no es lo mismo estar en el coche 1 que en la coche 2.
Intervienen todas. Esto es debido a que se presentan 3 coches para tres amigos, por lo que todos tienen un coche que ocupar. 
No se repiten elementos ya que uno de ellos no puede estar en distintos coches al mismo tiempo.

lista = ['A', 'B', 'C']
contador = 1

for i in lista:
    for j in lista:
        for k in lista:
           
                if i != j and i != k and j != k :
                    print(f"{contador:2d} →  {i+j+k}")
                    contador += 1





Práctica 1.6
Invente un caso de permutaciones con repetición. Se pide contestar a los mismos puntos que el caso anterior.

Solución 1.6

Un grupo formado por 4 pilotos profesionales debe inscribirse en 4 categorias distintas para competir. Cuantos casos existirian sabiendo que los competidores pueden ganar mas de una competicion.

lista = ['Piloto 1 ', 'Piloto 2 ', 'Piloto 3 ', 'Piloto 4 ']

for i in lista:
    for j in lista:
        for k in lista:
            for l in lista:
                print(i + j + k + l)





Práctica 1.7
Invente un caso de combinaciones sin repetición. Se pide contestar a los mismos puntos que el caso anterior.

Solución 1.7

Un equipo de futbol debe elegir el color de su primera y segunda equipacion sin repetir color entre los siguientes:

Rojo (R)
Azul (A)
Negro (N)
Verde (V)
Blanco (B)
Morado (M)
Gris (G)
¿De cuantas formas distintas pueden seleccionar los colores?

Estamos ante un caso de combinaciones sin repetición ya que:
El orden no importa,  ya que al elegir por ejemplo primero rojo y luego blanco seria lo mismo que escoger primero blanco y luego rojo.
No intervienen todos. Son 7 colores y solo pueden escoger 2.
No se repiten elementos. Los colores de las camisetas deben ser distintos.

from itertools import combinations

Colores = ["Rojo ","Azul ","Negro ","Verde ","Blanco ","Morado ","Gris ",]

n = 0
combi = []

while n < len(Colores):
    for i in Colores:
        for g in Colores:
            if i != g and g + i not in combi:
                c = i + g
                combi.append(c)
                n += 1
                print (n,c)
from math import factorial
print(f"Los casos que se obtienen son {int(factorial(7)/factorial(2)/factorial(7-2))}")


Práctica 1.8
Invente un caso de combinaciones con repetición. Se pide contestar a los mismos puntos que el caso anterior.

Solución 1.8

Solución 1.8
Una restaurante de shushi ofrece cinco salsas variadas para acompañar los platos:

Teriyaki
Ponzu
Picante
Agridulce
Huancaina
Al realizar el pedido solo te incluyen dos salsas sin coste añadido. Entonces, ¿cuántas combinaciones de salsas se pueden elegir sin coste adicion? Es un caso de combinaciones con repetición ya que:

El orden no importa, no es relevante el orden en el que se escogen las salsas ya que es lo mismo elegir picante y agridulce que agridulce y picante.
No intervienen todos. De las 5 salsas solo se pueden elegir dos.
Si se repiten elementos. El cliente puede elegir dos veces la misma salsa.

from itertools import combinations

salsas = ["Teriyaki ","Ponzu ","Picante ","Agridulce ","Huancaina "]

n = 0
combi = []

while n < len(salsas):
    for i in salsas:
        for g in salsas:
            if  g + i not in combi:
                c = i + g
                combi.append(c)
                n += 1
                print (n,c)




Práctica 1.9
En el gobierno se crea una unidad de crisis formada por el presidente (P) y 4 ministros (A,B,C,D) que se reúnen sentados alrededor de una mesa redonda.

Se pide:

Calcule de cuantas formas pueden llegar a sentarse si el ministro de defensa (D) siempre ha de estar al lado del presidente (P). Escriba la solución en una celda de Markdown utilizando fórmulas en 
 explicando el caso.
Cree un programa en Python para calcular el número de casos que se pueden dar al sentarse en la mesa.
Cree un programa en Python para imprimir todas las posibilidades y numérelas. Por ejemplo:
1 PDABC
2 PDACB
3 PDBCD
4 PDBDC
5 PDCAB
6 PDCBA
7 DPABC
8 DPACB
... ... ...
Solución 1.9

Práctica 1.10
Realice una breve explicación teórica del triángulo de Pascal, o también llamado triángulo de Tartaglia, y de las fórmulas de los números combinatorios.
Cree un programa en Python para hacer el triángulo de Pascal.
Solución 1.10

El triangulo de Pascal es una forma de representar los coeficientes binominales ordenados en forma triangular.
Los numeros combinatorios son el valor numérico de las combinaciones ordinarias (sin repetición) de un conjunto de n elementos tomados en grupos de r, siendo n y r dos números enteros y positivos tales que n ³ r.

num = int(input("Introduce el numero de columnas:"))
  
for n in range(num):
    print(' '*(num-n), end='')

    print(' '.join(map(str, str(11**n))))
